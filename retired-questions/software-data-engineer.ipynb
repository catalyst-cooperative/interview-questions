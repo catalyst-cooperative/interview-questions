{
 "cells": [
  {
   "cell_type": "markdown",
   "id": "ddb39cab-8b54-4b21-8078-46a92e5528bf",
   "metadata": {},
   "source": [
    "# Software & Data Engineering Take Home Project\n",
    "\n",
    "## This is not an exam.\n",
    "* The point of this exercise is to have a concrete example of your work that we can work through together, so we can better understand your approach to problem solving, software design, and data processing.\n",
    "* It also gives you a small example of the kind of work we often do.\n",
    "* We don't expect you to come up with a complete and polished solution to this problem in the very limited amount of time available.\n",
    "* Please spend 2-4 hours working on this task. The work doesn't have to happen all at once. We want to to have time to look at it, step away, think, and come back to it again, since that's how real problem solving and design often works.\n",
    "* Feel free to use available online documentation and resources that you would normally consult while developing software or wrangling data.\n",
    "* Feel free to use additional open source Python packages if you like.\n",
    "* You can do the work in this notebook, or create a stand-alone executable module.\n",
    "* In either case, the code should be broken down into functions and/or classes.\n",
    "* Make sure that we can run the software easily. Provide some instructions and specify the dependencies somehow (`requirements.txt`, `environment.yml`, etc.)\n",
    "\n",
    "## What we're looking for in general\n",
    "* Code that's easy to read, understand, and reason about.\n",
    "* A well defined decomposition of the high level problem into smaller, more managable pieces.\n",
    "* A working first draft that you could imagine refining or extending later based on the initial results, or if you were to learn more about the problem, or wanted to apply the solution in another context.\n",
    "\n",
    "## Email us your work within a week.\n",
    "* Send it to [hello@catalyst.coop](mailto:hello@catalyst.coop) (normally we'd have you make a PR but... we don't want everyone looking at each others solutions)\n",
    "* We'll review your work and reach out to schedule a longer conversation about it, and another technical interview."
   ]
  },
  {
   "cell_type": "markdown",
   "id": "58f8f3e0-3a8b-4185-8d18-4632bbbd1971",
   "metadata": {},
   "source": [
    "# Background on the US EIA Thermoelectric Cooling Data\n",
    "* The US Energy Information Administration (EIA) collects lots of data about US power plants and electricity generation.\n",
    "* Often they publish this data as Microsoft Excel spreadsheets.\n",
    "* One dataset they provide includes details about the water consumed by thermoelectric generators.\n",
    "* This data (the \"detail\" not \"summary\" data) can be downloaded from: https://www.eia.gov/electricity/data/water/\n",
    "* The data is released annually, with each year's worth of data in a single spreadsheet having close to 100,000 rows.\n",
    "* This data as it is published contains a lot of duplicated information, because it is not well normalized.\n",
    "* For example, every row contains a Plant ID and a Plant Name, rather that having a separate table that uniquely associates a Plant ID and Plant Name in a single record.\n",
    "* We want to normalize this table and convert it into a relational database in order to:\n",
    "  * reduce the amount of information that needs to be stored\n",
    "  * reduce ambiguity that can arise from duplication and inconsistent data,\n",
    "  * make the relationships between the different entities in the table explicit, and\n",
    "  * allow easier programmatic use of the data.\n",
    "* Unfortunately, we don't know what the schema for the database we want to create should look like."
   ]
  },
  {
   "cell_type": "markdown",
   "id": "8257e4de-f870-4af7-a66f-adaefb8f8560",
   "metadata": {},
   "source": [
    "# Task: Infer a Candidate Database Schema\n",
    "* Using Python, create a process that can automatically suggest an appropriate database schema for the Thermoelectric Cooling Data, based on the contents of the published data.\n",
    "* This general task comes up frequently, so it's worth thinking about how the solution could be made somewhat general and modular, such that it could be reused on antoher poorly normalized dataset.\n",
    "\n",
    "## The candidate schema should include:\n",
    "* A collection of tables.\n",
    "* The primary keys associated with each table.\n",
    "* The list of columns that should appear in each table.\n",
    "* The data type which should be associated with each column.\n",
    "* Foreign key constraints which relate the tables to each other.\n",
    "\n",
    "## Don't worry about cleaning the data deeply\n",
    "* The work of cleaning the data, ensuring that records are deduplicated, and enforcing the chosen data types such that the records can actually be inserted into a database is not part of this task.\n",
    "* However, some cleaning may be required to extract the information necessary for inferring a schema.\n",
    "\n",
    "## Include some diagnostic information\n",
    "* In addition to the candidate schema or schemas, generate some diagnostic information indicating how confident you are in the various parts of the schema.\n",
    "* For example, if every combination of Plant ID and generator ID only ever appear in association with a single value of prime mover code, then you might infer a high likelihood of a functional dependency in which the tuple (Plant ID, Generator ID) uniquely determines the prime mover code.\n",
    "\n",
    "## Questions to consider\n",
    "* Which columns are associated with what type of entity (Utility, Plant, Boiler, Generator, Cooling System, etc.)?\n",
    "* What attributes of the dataset overall will indicate that a particular data field should be stored in a given table and associated with a particular primary key?\n",
    "* Which columns vary over time for a given entity? Do they vary annually or monthly?\n",
    "* Given that the data is almost certainly not 100% clean, how consistent does a column's value need to be in order to indicate that it belongs in a table with a given primary key? For example, we might believe that each Plant ID should be associated with a single unique Plant Name, but typos in the Plant Name could mean that we get many different variants of the same name in different records.\n",
    "* How might you be able to test the robustness of the suggested schema?\n",
    "* Are the individual subcomponents of your solution easy to test?\n",
    "* How might you differentiate between a value that changes rarely, and a bad value which should be corrected or ignored?\n",
    "\n",
    "## Domain specific hints:\n",
    "* There might be others, but columns that we know are likely to be involved in primary keys include:\n",
    "  * `utility_id`\n",
    "  * `plant_code`\n",
    "  * `generator_id`\n",
    "  * `boiler_id`\n",
    "  * `cooling_id`\n",
    "  * `year`\n",
    "  * `month`\n",
    "* Plants are made up of boilers and generators, which should have unique IDs within each plant. Cooling systems are probably identified similarly.\n",
    "* The \"Relationship Type\" column indicates what type of mapping exists between the boilers, generators, and cooling systems (one to many, many to one, etc.)"
   ]
  },
  {
   "cell_type": "code",
   "execution_count": null,
   "id": "e3455499-3ddb-4f3e-8823-11b9c8c16084",
   "metadata": {},
   "outputs": [],
   "source": []
  }
 ],
 "metadata": {
  "kernelspec": {
   "display_name": "Python 3",
   "language": "python",
   "name": "python3"
  },
  "language_info": {
   "codemirror_mode": {
    "name": "ipython",
    "version": 3
   },
   "file_extension": ".py",
   "mimetype": "text/x-python",
   "name": "python",
   "nbconvert_exporter": "python",
   "pygments_lexer": "ipython3",
   "version": "3.9.4"
  }
 },
 "nbformat": 4,
 "nbformat_minor": 5
}
