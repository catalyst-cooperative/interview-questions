{
 "cells": [
  {
   "cell_type": "markdown",
   "metadata": {},
   "source": [
    "# Take Home Project: Wrangling coal mine data\n",
    "\n",
    "* This task is an example of the kind of work we do to make public energy data usable for analysis.\n",
    "* We want to be able to explore your general approach together and see how you think about these kinds of problems.\n",
    "* **Spend 2-4 hours working on it.** This doesn't have to happen all at once. We want you to have time to play with the data, step away from it to think, and then come back to it again.\n",
    "* Feel free to use whatever documentation or online resources you would normally consult while working on a data wrangling problem.\n",
    "* Feel free to use additional 3rd party libraries if you want to.  You should be able to install them from within the notebook using `!pip install packagename` or `!conda install packagename`\n",
    "\n",
    "## Email us your notebook within a week.\n",
    "* Send it to [hello@catalyst.coop](mailto:hello@catalyst.coop) (normally we'd have you make a PR but... we don't want everyone looking at each others solutions)\n",
    "* We'll review your notebook and if it looks good, we'll reach out to schedule a longer conversation about it, and another technical interview.\n",
    "\n",
    "## Some questions to keep in mind:\n",
    "* What assumptions are you making about the data?\n",
    "* Is the raw data well structured?\n",
    "* How will you test whether / when those assumptions are valid?\n",
    "* How would you / did you deal with the data that don’t conform to those assumptions?\n",
    "* If there are records which can’t be reasonably cleaned automatically, but were high value in an advocacy context, how would you integrate manual cleaning into the automated process so that the manual effort is captured, and can be incrementally improved over time?\n",
    "* What expectations do you have about the output data?\n",
    "* What kind of data validation checks would you design to make sure that the output meets your expectations? These could be either integrated into the table transformation process, or run on the final output.\n",
    "* How do you decide when data isn’t recoverable?\n",
    "* How will you evaluate the completeness of the data that you’ve been able to extract?\n",
    "* What kind of queries are you trying to make easy with the structure of the output data?\n",
    "* What parts of this process might make sense to generalize / abstract for re-use in extracting, cleaning, and reorganizing data from other tables?"
   ]
  },
  {
   "cell_type": "markdown",
   "metadata": {},
   "source": [
    "## Background on coal mine data\n",
    "* Mine data is helpful for understanding where power plants are purchasing fuel from and where new renewable energy can be built. This data is espesially relevant now that the Inflation Reduction Act (IRA) provides tax benefits for clean energy projects in coal communities. You can read more about \"energy and coal communitites\" [here](https://www.resources.org/common-resources/what-is-an-energy-community/), though not required to answer this interview question. \n",
    "* The PUDL database contains one table about coal mines from EIA 923 Form called [`coalmine_eia923`](https://catalystcoop-pudl.readthedocs.io/en/dev/data_dictionaries/pudl_db.html#fuel-receipts-costs-eia923). This table is extracted from another table that contains fuel contract purchases and costs called [`fuel_receipts_costs_eia923`](https://catalystcoop-pudl.readthedocs.io/en/dev/data_dictionaries/pudl_db.html#fuel-receipts-costs-eia923).\n",
    "* The Mine Safety and Health Administration [provides a more complete set of mine data](https://arlweb.msha.gov/OpenGovernmentData/OGIMSHA.asp) that we haven't integrated into PUDL yet. MSHA dataset 13, aptly named [\"Mines Data Set\"](https://arlweb.msha.gov/OpenGovernmentData/DataSets/Mines.zip), contains detailed information about mines that `coalmine_eia923` does not. **The goal of this interview question is to extract the MSHA Mines Data Set and integrate it with the `coalmine_eia923` table.**\n",
    "\n",
    "## Part A: Extract and Clean the MSHA Mine Data Set\n",
    "Design a function or class that can extract the MSHA Mines Data Set. Clean the columns you think are required to defined a clear structure for the data. You can also clean columns you think would be helpful from an advocacy or research perspective though you don't need to clean every column. \n",
    "\n",
    "### Some questions to keep in mind\n",
    "* What is the structure of the data? What information do you expect to be unique?\n",
    "* If you were integrating this dataset into a database, what information could be noramlized into separate tables?\n",
    "* How would you clean the most relevant fields for integrating with the `coalmine_eia923` table?\n",
    "\n",
    "### Some hints\n",
    "* The MSHA dataset has a [Definitions File](https://arlweb.msha.gov/OpenGovernmentData/DataSets/Mines_Definition_File.txt) with column type and description information. \n",
    "* Use latin encoding to extract the .txt files."
   ]
  },
  {
   "cell_type": "markdown",
   "metadata": {},
   "source": [
    "## Part B: Integrate the MSHA Mines Data Set with the `coalmine_eia923` table\n",
    "The goal here is to integrate the useful information in the MSHA Mines dataset with the the `coalmine_eia923` table. Both datasets contain identifiers for mines called MSHA IDs. Unfortantely, the `coalmine_eia923` contains duplicate and missing MSHA ids. **Attempt to resolve the duplicates and impute the missing MSHA ids in the `coalmine_eia923` table so it can be joined with the MSHA mines dataset.**\n",
    "\n",
    "You're welcome to use 3rd party libraries for this porition. Your solution doesn't need to be perfect but you should describe the limitations of your solutions and potential improvements.\n",
    "\n",
    "### Some questions to keep in mind\n",
    "* Which fields are the most reliable?\n",
    "* Which fields are most helpful for identifying unique records?\n",
    "\n",
    "### Some hints\n",
    "* Sometimes, the original form respondents have to fill out can be helpful in understanding data quality issues due to data entry. [Here](https://www.eia.gov/Survey/#eia-923) is the EIA 923 Form."
   ]
  },
  {
   "cell_type": "markdown",
   "metadata": {},
   "source": [
    "# Set up access to the PUDL database\n",
    "* You can download a copy of our PUDL SQLite DB from: https://data.catalyst.coop/pudl.db\n",
    "* Substitute the path to that file on your system below:"
   ]
  },
  {
   "cell_type": "code",
   "execution_count": null,
   "metadata": {},
   "outputs": [],
   "source": [
    "import sqlalchemy as sa\n",
    "import pandas as pd\n",
    "\n",
    "PUDL_DB_PATH = \"/path/to/your/copy/of/pudl.db\"\n",
    "\n",
    "pudl_engine = sa.create_engine(f\"sqlite:///{PUDL_DB_PATH}\")"
   ]
  },
  {
   "cell_type": "code",
   "execution_count": null,
   "metadata": {},
   "outputs": [],
   "source": [
    "# Read the coalmine_eia923 table:\n",
    "coalmine_eia923 = pd.read_sql(\"coalmine_eia923\", pudl_engine)\n",
    "coalmine_eia923.info()"
   ]
  }
 ],
 "metadata": {
  "kernelspec": {
   "display_name": "Python 3 (ipykernel)",
   "language": "python",
   "name": "python3"
  },
  "language_info": {
   "codemirror_mode": {
    "name": "ipython",
    "version": 3
   },
   "file_extension": ".py",
   "mimetype": "text/x-python",
   "name": "python",
   "nbconvert_exporter": "python",
   "pygments_lexer": "ipython3",
   "version": "3.10.6"
  },
  "toc-autonumbering": false,
  "toc-showmarkdowntxt": false
 },
 "nbformat": 4,
 "nbformat_minor": 4
}
